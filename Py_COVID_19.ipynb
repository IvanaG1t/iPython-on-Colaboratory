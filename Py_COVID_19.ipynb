{
  "nbformat": 4,
  "nbformat_minor": 0,
  "metadata": {
    "colab": {
      "provenance": [],
      "private_outputs": true,
      "toc_visible": true,
      "include_colab_link": true
    },
    "kernelspec": {
      "name": "python3",
      "display_name": "Python 3"
    }
  },
  "cells": [
    {
      "cell_type": "markdown",
      "metadata": {
        "id": "view-in-github",
        "colab_type": "text"
      },
      "source": [
        "<a href=\"https://colab.research.google.com/github/IvanaG1t/iPython-on-Colaboratory/blob/main/Py_COVID_19.ipynb\" target=\"_parent\"><img src=\"https://colab.research.google.com/assets/colab-badge.svg\" alt=\"Open In Colab\"/></a>"
      ]
    },
    {
      "cell_type": "markdown",
      "metadata": {
        "id": "gXtkFEayHjDH"
      },
      "source": [
        "# Napomene"
      ]
    },
    {
      "cell_type": "markdown",
      "metadata": {
        "id": "Kn5aOiCIO2LO"
      },
      "source": [
        "Tutorijal pred Vama je namenjen učenju pythona i osnovnih kocepata u data science-u. Tema je odabrana u vreme kada je bila deo naše trenutne svakodnevice, i u nadi da će motivisati pojedince da koriste zvanične i proverene podatke čak i kada oni zahtevaju obradu. Za donošenje epidemioloških zaključaka je potrebno mnogo dublje znanje - unapred Vas molim da ne koristite površne zaključke stečene ovde u opravdavanju bilo kog ponašanja koje je u suprotnosti sa opštim preporukama Svetske zdravstvene organizacije (WHO) i nadležnih organa.\\\n",
        "Ukoliko želite da svoje znanje koristite za argumentaciju nekog stava, svakako to učinite uz davanje proverenih podataka, reproducibilne metodologije i jasnih rezultata. Što se tiče ovih rezultata, po mom mišljenju u njima nema ničeg kontraverznog ni neočekivanog. Ukoliko mi ne verujete, svakako nema potrebe ni da učite od mene, te ovaj kurs nije za Vas.\\\n",
        "Podaci ECDC kasne jedan dan u odnosu na one koje ćete videti u novinama istog dana, tj. broj slučajeva određenog dana je ustvari statistika prethodnog dana zaključno sa ponoći.\\\n",
        "Pitanja, sugestije i povratne informacije možete slati na ognjen011@gmail.com\\\n",
        "**Naročito bih voleo da mi pošaljete kvalitetne i pouzdane izvore informacija koje bih mogao da prikažem ovde, kako za Srbiju tako i za svet.** Uslov je samo da budu dostupne u fajlu bilo kog formata.\n",
        "Tutorijal pred Vama je inspirisan ovim sjajnim [projektom](https://crockol.shinyapps.io/covid-19_didacticexperiment/#section-italian-case). \n",
        "\n",
        "dr Ognjen Milićević\\\n",
        "Katedra za medicinsku statistiku i informatiku\\\n",
        "Medicinski fakultet\\\n",
        "Univerzitet u Beogradu"
      ]
    },
    {
      "cell_type": "markdown",
      "metadata": {
        "id": "hO8PpZEn060r"
      },
      "source": [
        "# Način upotrebe"
      ]
    },
    {
      "cell_type": "markdown",
      "metadata": {
        "id": "ZF8bSFSB05bu"
      },
      "source": [
        "Ukoliko niste upoznati sa konceptom Notebook-a, svaki prozor sa kodom se može pokretati. Prepoznaćete ih po sivoj pozadini i znaku \"Play\" kada kliknete na njih. Možete ih pokretati i sa shift-Enter, i to Vam je dovoljno za prolaz kroz tutorijal, jer shift-Enter na ćelijama sa tekstom će samo nastaviti na sledeću ćeliju.\\\n",
        "Između ćelija koda je ubačen tekst, pa je kod koji je funkcionalna celina često rasparčan u delove. Stoga, **kod tutorijala se mora pokretati od početka do kraja da bi ste dobili ispravne output-e**. Ukoliko prekinete sa radom i vratite se kada je strana ponovo učitana a sve promene nestale, kliknite na prvu ćeliju i stiskajte shift-Enter dok ne dođete do dela do kog ste stigli.\\\n",
        "U pitanju je privremena kopija, tako da slobodno možete praviti izmene po želji. Čak je i poželjno da eksperimentišete sa svojim izmenama."
      ]
    },
    {
      "cell_type": "markdown",
      "metadata": {
        "id": "LVLGWYAVQiGH"
      },
      "source": [
        "# Uvod"
      ]
    },
    {
      "cell_type": "markdown",
      "metadata": {
        "id": "HJsP2SYPO0vp"
      },
      "source": [
        "Većina skripti u pytonu počinje uvoženjem biblioteka potrebnih za rad. Iako se uvoženje može raditi bilo gde u kodu, dobra praksa je da se to radi na početku, a neki saveti kažu i po azbučnom redu - sve u cilju preglednosti."
      ]
    },
    {
      "cell_type": "code",
      "metadata": {
        "id": "QGg8CU0sQ1s7"
      },
      "source": [
        "#@title\n",
        "import datetime\n",
        "import io\n",
        "from IPython.display import display, HTML\n",
        "import numpy as np\n",
        "import pandas as pd\n",
        "import plotly.express as px\n",
        "import plotly.graph_objects as go\n",
        "from plotly.subplots import make_subplots\n",
        "import scipy.stats\n",
        "from sklearn.linear_model import LinearRegression"
      ],
      "execution_count": null,
      "outputs": []
    },
    {
      "cell_type": "markdown",
      "metadata": {
        "id": "RRwTeC8fGkfR"
      },
      "source": [
        "Ovde vidimo pomešano nekoliko vrsta uvoza:\n",
        "\n",
        "\n",
        "*   prost uvoz biblioteke (import datetime); sadržaje iz nje pozivamo isključivo sa datetime.*\n",
        "*   uvoz biblioteke pod aliasom (import pandas as pd); sadržaje iz nje pozivamo isključivo sa pd.*\n",
        "*   uvoz sadržaja iz biblioteke bez uvoza ostatka (from plotly.subplots import make_subplots); sada možemo koristiti make_subplots ali ne i plotly.subplots\n"
      ]
    },
    {
      "cell_type": "markdown",
      "metadata": {
        "id": "sDSStB7x0PQu"
      },
      "source": [
        "## Učitavanje fajla"
      ]
    },
    {
      "cell_type": "markdown",
      "metadata": {
        "id": "EipKK6ayVsbc"
      },
      "source": [
        "Sledeći korak je obično definisanje parametara i ulaznih podataka. Dobro je da je i ovo na vidljivom mestu pri početku, jer ukoliko želimo da izmenimo podatke sa kojima radimo ili neki od parametara koji fiksiramo u kodu, znamo odmah gde da tražimo.\\\n",
        "Podaci koji ćemo koristiti su zvanični podaci ECDC (*European Center for Disease Control*) i svakodnevno su dostupni za preuzimanje u vidu Excel fajla na sledećoj adresi:\\\n",
        "https://www.ecdc.europa.eu/en/publications-data/download-todays-data-geographic-distribution-covid-19-cases-worldwide \\\n",
        "Postoji više načina da ove podatke učitamo. Uobičajena korisnička upotreba je da kliknemo na link za preuzimanje u browseru čime će se fajl spustiti na lokalnu mašinu, nakon čega je možemo dalje otvoriti u željenom programu, gledati i obrađivati. Međutim, iako to sada ne deluje bitno - strana koju upravo gledate živi na internetu i stoga je lokalna mašina nešto dosta drugačije od kompjutera koji koristimo. Način na koji se \"imitira\" sistem fajlova nalik lokalnom se donekle razlikuje u zavisnosti od firme koja tu uslugu pruža (u ovom slučaju Google). Srećom, mi imamo lak način da zaobiđemo ovaj problem - biblioteka pandas može pročitati podatke direktno putem web adrese. Adresu saznajemo tako što umesto levog klika, desnim klikom i sa *Copy link address* dobijamo adresu samog fajla.\\\n",
        "Pošto se ime fajla menja sa datumom, i naš kod koristi interni datum da skine pravi fajl."
      ]
    },
    {
      "cell_type": "code",
      "metadata": {
        "id": "UYnWtZ26WcTV"
      },
      "source": [
        "#@title\n",
        "today_date = datetime.datetime.strftime(datetime.datetime.today(), '%Y-%m-%d')\n",
        "data_url = \"https://www.ecdc.europa.eu/sites/default/files/documents/COVID-19-geographic-disbtribution-worldwide-{}.xlsx\".format(today_date)\n",
        "try:  # pokušaj skidanja današnjeg fajla\n",
        "  data = pd.read_excel(data_url)\n",
        "except:  # još nije postavljen današnji fajl, skinućemo jučerašnji\n",
        "  print(\"Danasnja baza jos nije uploadovana. Skida se jucerasnja baza...\")\n",
        "  yesterday = datetime.datetime.strftime(datetime.datetime.today() - datetime.timedelta(days=1), '%Y-%m-%d')\n",
        "  data_url = \"https://www.ecdc.europa.eu/sites/default/files/documents/COVID-19-geographic-disbtribution-worldwide-{}.xlsx\".format(yesterday)\n",
        "  data = pd.read_excel(data_url)"
      ],
      "execution_count": null,
      "outputs": []
    },
    {
      "cell_type": "markdown",
      "metadata": {
        "id": "UvmTY9tSb1CZ"
      },
      "source": [
        "Pandas uvek učitava svoje podatke u objekat koji se zove dataframe. Njega karakteriše prvenstveno organizacija - redovi su opservacije tj. jedinice posmatranja, dok su kolone promenljive koje pratimo. Ključna karakteristika je i da su kolone heterogene po tipu, dakle mešaju se numerički podaci sa kategoričkim."
      ]
    },
    {
      "cell_type": "markdown",
      "metadata": {
        "id": "kKNtNA1E0hyb"
      },
      "source": [
        "## Pregled podataka"
      ]
    },
    {
      "cell_type": "markdown",
      "metadata": {
        "id": "Ip89-PlL0l9U"
      },
      "source": [
        "Najbolji način da proverimo uspešnost učitavanja i da bacimo prvi pogled na podatke kada radimo jeste da koristimo komandu *print*. Tako ćemo videti broj redova i imena nekih od kolona, ali većina redova i kolona će ostati neprikazana kod velikih dataframeova, indikovano tačkicama."
      ]
    },
    {
      "cell_type": "code",
      "metadata": {
        "id": "j0tSpDmVcX1H"
      },
      "source": [
        "#@title\n",
        "print(data)"
      ],
      "execution_count": null,
      "outputs": []
    },
    {
      "cell_type": "markdown",
      "metadata": {
        "id": "OyK8nZCZikyc"
      },
      "source": [
        "Jedna od prednosti ovog i njemu sličnih notebook-a je da imaju sjajan sistem za printanje koji se aktivira poslednjom komandom koja nema skladištenje u promenljivu (recimo da nema znak jednakosti), i nešto je lepši za dataframe-ove:\n"
      ]
    },
    {
      "cell_type": "code",
      "metadata": {
        "id": "h5qTD0HokdhN"
      },
      "source": [
        "#@title\n",
        "data"
      ],
      "execution_count": null,
      "outputs": []
    },
    {
      "cell_type": "markdown",
      "metadata": {
        "id": "MccpxJ_6k9aX"
      },
      "source": [
        "Osim što smo dobili bojene redove i lepše formatiranu tabelu, dobili smo i sve kolone (što neće uvek biti slučaj, već su različiti limiti broja kolona koji se štampa, ali eto srećne okolnosti). Redovi se nisu promenili.\\\n",
        "Primetimo da su podaci i dalje malo nejasni, pogotovo što vidimo samo 10 redova sa jako malim brojem slučaja. Da bismo pregledali ostatak tabele, a da ne izlazimo i koristimo Excel, možemo koristiti neki od naprednih vizualizatora. Iskoristimo jednu od funkcija koje smo na početku uvezli iz IPython.display: "
      ]
    },
    {
      "cell_type": "code",
      "metadata": {
        "id": "0p5G-UvTsbgo"
      },
      "source": [
        "#@title\n",
        "display(data)"
      ],
      "execution_count": null,
      "outputs": []
    },
    {
      "cell_type": "markdown",
      "metadata": {
        "id": "aairSN13tgdo"
      },
      "source": [
        "Vidimo da je upravo funkcija display odgovorna za ulepšavanje našeg ispisa koje koristi notebook. Ako iskoristimo i HTML funkciju i malo se strpimo, možemo dobiti sve redove kroz koje možemo skrolovati: "
      ]
    },
    {
      "cell_type": "code",
      "metadata": {
        "id": "0XO4pA5st-65"
      },
      "source": [
        "#@title\n",
        "display(HTML(data.to_html()))"
      ],
      "execution_count": null,
      "outputs": []
    },
    {
      "cell_type": "markdown",
      "metadata": {
        "id": "fDiyI3KMuOt2"
      },
      "source": [
        "Međutim, ovo je rizičan pristup. Broj redova će rasti, i biće potrebno sve više vremena i memorije za ovakav prikaz. U lokalu lako možete zablokirati sistem pokušajem štampanja velikih baza. Uostalom, dupli skrol često pravi probleme i daje neželjeno ponašanje (probajte točkić miša). Stoga, srednje rešenje je paginacija - štampanje određenog broja redova uz mogućnost menjanja strane. Ovakvi prikazi imaju aktivne elemente (dugmiće) i za kategoriju su složeniji od pasivnog teksta, ma koliko lepo formatiran:"
      ]
    },
    {
      "cell_type": "code",
      "metadata": {
        "id": "RxJIr6Vhs4-n"
      },
      "source": [
        "#@title\n",
        "%load_ext google.colab.data_table\n",
        "data"
      ],
      "execution_count": null,
      "outputs": []
    },
    {
      "cell_type": "markdown",
      "metadata": {
        "id": "F8mcuVgNxAqk"
      },
      "source": [
        "Komandu *%load_ext* pokrećete samo jednom. Pošto aktivni elementi zahtevaju spoljni jezik JavaScript (JS), rešenje zavisi od okruženja i gornje komande neće svuda raditi. Ukoliko volite klasični prikaz, možete se vratiti na staro sledećim komandama (u suprotnom, preskočite ih):"
      ]
    },
    {
      "cell_type": "code",
      "metadata": {
        "id": "-1u_AdQ4wvTo"
      },
      "source": [
        "#@title\n",
        "%unload_ext google.colab.data_table\n",
        "data"
      ],
      "execution_count": null,
      "outputs": []
    },
    {
      "cell_type": "markdown",
      "metadata": {
        "id": "7PhmgExVyF4y"
      },
      "source": [
        "Za koji god da smo se pregled odlučili, vidimo da podaci imaju relativno jednostavnu strukturu: kolona dateRep je datum, zatim sledeće tri kolone predstavljaju dan mesec i godinu, tj. parsiran datum ukoliko je to lakše za upotrebu; broj zaraženih i broj smrti, i na kraju ime i šifra teritorije. Iako to ne piše, možemo primetiti da brojevi slučajeva nisu monotono rastući, i zaključujemo da **nije u pitanju ukupan broj slučajeva tog dana, već broj novoregistrovanih slučajeva. Isto važi i za smrtne slučajeve**.\\\n",
        "Skroz levo postoji kolona (koja ponekad ima ime a ponekad ne, zavisi od prikaza) koja se zove *indeks*. Ova kolona je po default-u samo broj reda počev od nule (zaglavlje se ne računa). Da li je to isto kao broj reda u Excel-u? Nije, to je zapravo IME tog reda, i umesto broja bi tu mogao stajati bilo koji string. Zamislite bazu pacijenata u kome bi indeksna kolona mogla biti JMBG. Ograničenje je da bi indeks trebalo da bude unikatan za svaki red.\\\n",
        "Zašto je nama ovo za sada bitno? Samo bi trebalo zapamtiti da se, kao ni pravo ime, ni broj reda ne menja. Čak i kada bismo izdvojili samo poslednjih par redova i snimili u novi dataframe, njihovi indeksi neće postati 0,1,2... već će ostati kakva su bila, što možda niste očekivali:"
      ]
    },
    {
      "cell_type": "code",
      "metadata": {
        "id": "ejDYkrvJ2nyW"
      },
      "source": [
        "#@title\n",
        "data_last = data.iloc[6007:,]  # primetite da za slajsovanje koristimo iloc - obavezno u pandas-u\n",
        "data_last"
      ],
      "execution_count": null,
      "outputs": []
    },
    {
      "cell_type": "markdown",
      "metadata": {
        "id": "4-4mskpT3W5H"
      },
      "source": [
        "Za kraj ćemo reći da će naš fokus svakako biti numerički podaci, i da oni mogu biti celi brojevi (integer) ili decimalni (float) - za našu analizu ne pravimo razliku. Svi drugi tipovi promenljivih su za nas kategorički, i mada mogu biti konkretnog složenog tipa (kao gore viđen datum), mi ćemo ih ovde tretirati kao tekst (strings).\\\n",
        "Ovim završavamo pregled podataka i krećemo njihovu obradu."
      ]
    },
    {
      "cell_type": "markdown",
      "metadata": {
        "id": "V-5ohRgw3ivf"
      },
      "source": [
        "# Deskripcija numeričkih podataka"
      ]
    },
    {
      "cell_type": "markdown",
      "metadata": {
        "id": "RhKG_T2-4vzd"
      },
      "source": [
        "Kada opisujemo podatke, pokušavamo da na jedan jednostavan način izvučemo glavne osobine. Nekada se misli na aritmetičku sredinu ili neku sličnu meru, međutim jasno je da u ovakvoj bazi ne možemo odmah da prikažemo prosek jer nije informativan. Naime, pomešane su države, ima puno dana sa nulama a opet ne počinju sve države od istog dana. Ukratko, podaci su strukturisani tako da prosek kolone nema informacioni značaj.\\\n",
        "Dobar početak je grafički prikaz podataka. Odmah ćemo reći da postoji više opcija za korišćenje biblioteka za grafike. Odlučili smo se za naprednu i lepu opciju (Plotly) umesto bazične (Matplotlib). Manjkavost je što menjanjem biblioteke menjamo i sintaksu koju koristimo, a veća je šansa da se zamene napredne biblioteke.\\\n",
        "Plotly ima svoju express i graphic_object varijantu, i zato smo dva puta importovali nešto iz plotly-ja (pogledajte u prvoj ćeliji). Prvo ćemo koristiti jednostavne ekspres funkcionalnosti, a onda ćemo pokušati da napravimo neke napredne vizualizacije."
      ]
    },
    {
      "cell_type": "markdown",
      "metadata": {
        "id": "-QhVKZl6O0_u"
      },
      "source": [
        "## Bazični grafici"
      ]
    },
    {
      "cell_type": "code",
      "metadata": {
        "id": "9_MB7L5p4uuZ"
      },
      "source": [
        "#@title\n",
        "fig = px.scatter(data, x=\"cases\", y=\"deaths\")\n",
        "fig.show()"
      ],
      "execution_count": null,
      "outputs": []
    },
    {
      "cell_type": "markdown",
      "metadata": {
        "id": "h9Y9wj3Q-mON"
      },
      "source": [
        "Primetimo da lebdenjem kursorom iznad tačaka dobijamo tačne vrednosti. Zatim primetimo izdvojene tačke sa desne strane - ekstremene i usamljene vrednosti uvek treba dodatno ispitati. U trenutku pisanja ovo ga postoja la je usamljena tačka od 15141 slučajeva, koju će kasnije prestići druge velike države. Međutim, sa grafika ne možemo dobiti državu iz koje tačka potiče, već možemo naći tačku sa tom vrednošću u dataframe-u. Takođe možemo da iskoristimo činjenicu da nema mnogo tačaka sa x-vrednošću preko 15000. Ili možemo da tražimo da vidimo najveću vrednost X-ose (mada će se ova vrednost menjati)."
      ]
    },
    {
      "cell_type": "code",
      "metadata": {
        "id": "4XMQjvoxH8Pp"
      },
      "source": [
        "#@title\n",
        "print(data.loc[data[\"cases\"]==15141,])  # tačno 15141 slučajeva\n",
        "print(data.loc[data[\"cases\"]>14000,])  # više od 14000\n",
        "print(data.loc[(data[\"cases\"]>14000) & (data[\"cases\"]<16000),])  # između 14000 i 16000\n",
        "print(data.loc[data[\"cases\"]==max(data[\"cases\"]),])  # maksimalno slučajeva"
      ],
      "execution_count": null,
      "outputs": []
    },
    {
      "cell_type": "markdown",
      "metadata": {
        "id": "vRSG2dijAxUh"
      },
      "source": [
        "Sasvim očekivano, država u pitanju je Kina. Da smo dobili neku neočekivanu državu iz konteksta pandemije COVID-19, trebalo bi proveriti kod i/ili podatke.\\\n",
        "Ovo je dobar trenutak da prokomentarišemo .loc koje se pojavljuje u kodu. Ukoliko ste koristili MATLAB ili R, znate da pri pristupanju dvodimenzionalnim podacima (dakle tabelama i matricama) dovoljno je da date red i kolonu razdvojene zarezom, baš kao i ovde, ali tamo nije potrebna nikakva dodatna reč. Međutim, ako ovde pokušate bez .loc dobićete neobičnu grešku. Razlog za ovo je što biblioteka Pandas pokušava da imitira korišćenje SQL baze, u kojima se indeks može sastojati iz više kolona, te je to i ovde slučaj. Kada ne koristite .loc ili sličnu odrednicu, program misli da ste mu dodelili indeks od dve kolone, a ne red i kolonu. Na početku se ovo .loc često zaboravlja ali u nekom trenutku ulazi u prste.\\\n",
        "Podatke ne moramo prikazivati takozvanim 2D vizualizacijama (gde poredimo dve dimenzije, ovde slučajeve i smrti) već ih možemo pojedinačno prikazivati. Iako nije mnogo poznat, najbolji brzi predgled se dobija [box-plot](https://en.wikipedia.org/wiki/Box_plot)-om:"
      ]
    },
    {
      "cell_type": "code",
      "metadata": {
        "id": "RZwZZ5CaICX9"
      },
      "source": [
        "#@title\n",
        "fig1 = px.box(data, y=\"cases\")\n",
        "fig1.show()\n",
        "fig2 = px.box(data, y=\"deaths\")\n",
        "fig2.show()"
      ],
      "execution_count": null,
      "outputs": []
    },
    {
      "cell_type": "markdown",
      "metadata": {
        "id": "pLsoCLvGIboa"
      },
      "source": [
        "Primetićemo da naši box plotovi uopšte ne liči na kutiju koju očekujemo, i takođe su nam poprilično beskorisni. Razlog za to je što je većina vrednosti oko nule. Možemo da probamo da \"zumiramo\" tako što odaberemo samo ograničen interval vrednosti blizu nule:"
      ]
    },
    {
      "cell_type": "code",
      "metadata": {
        "id": "Hp-2Qu9FIP0k"
      },
      "source": [
        "#@title\n",
        "fig2 = px.box(data, y=\"deaths\")\n",
        "fig2.update_yaxes(range=[0, 10])  # opseg prikazanih vrednosti na y-osi\n",
        "fig2.show()"
      ],
      "execution_count": null,
      "outputs": []
    },
    {
      "cell_type": "markdown",
      "metadata": {
        "id": "nOm43PFsIZdP"
      },
      "source": [
        "I dalje nismo ništa rešili, jer nisu problem vrednosti blizu nule, već upravo nule. Da li imamo prava da ih isključimo? Zamislite da je neko počeo da vodi ovu evidenciju pre 10 godina, i svaki dan dodaje broj slučajeva pandemije korona virusa. Pošto iste nije bilo do sada, svaki dan bi se pisale nule za sve države. Ali ove vrednosti su trivijalne, i mi ih nismo ni uzeli u obzir. Istom logikom možemo isključiti i sve nule u trenutnoj tabeli.\\\n",
        "(Ovo nije potpuno tačno i treba paziti kada ima smisla koristiti pojednostavljujuće pretpostavke. Trenutno nule znače da je država prijavila nulu, što znači da monitoring postoji. Kada se ne radi monitoring, mi možemo reći da vrednosti nema (prazno polje u Excel-u, ili zavismo od programskog jezika jedna od {NA, NAN, NULL}. Samim tim, nekada će nam nule biti važne, ali ne i pri deskripciji.)"
      ]
    },
    {
      "cell_type": "code",
      "metadata": {
        "id": "eXDa1Ki2IoxD"
      },
      "source": [
        "#@title\n",
        "fig1 = px.box(data.loc[data[\"cases\"]>0,:], y=\"cases\")\n",
        "fig1.show()\n",
        "fig2 = px.box(data.loc[data[\"deaths\"]>0,:], y=\"deaths\")\n",
        "fig2.show()"
      ],
      "execution_count": null,
      "outputs": []
    },
    {
      "cell_type": "markdown",
      "metadata": {
        "id": "LGyQ0sFyNDMj"
      },
      "source": [
        "Sada se već nazire kutija, ali opet je grafik ružan. Možemo pokušati da prikažemo podatke transformisane logaritmovanjem, što je česta praksa sa podacima koji su nagomilani na jednu stranu (ovde ka malim vrednostima). I dalje isključujemo nule jer logaritam od nule je minus beskonačno."
      ]
    },
    {
      "cell_type": "code",
      "metadata": {
        "id": "9JOGnisWI4rq"
      },
      "source": [
        "#@title\n",
        "fig1 = px.box(data.loc[data[\"cases\"]>0,:], y=\"cases\", log_y=True)\n",
        "fig1.show()\n",
        "fig2 = px.box(data.loc[data[\"deaths\"]>0,:], y=\"deaths\", log_y=True)\n",
        "fig2.show()"
      ],
      "execution_count": null,
      "outputs": []
    },
    {
      "cell_type": "markdown",
      "metadata": {
        "id": "1tkkRbVFNuHJ"
      },
      "source": [
        "Primetite da nismo logaritmovali same podatke, već \n",
        "smo prikazali y-osu u logaritamskoj razmeri. To je mogućnost ovog paketa i nije uvek dostupna u analizi. Prikaz logaritmovanih podataka je nezgodan za čitaoca jer brojevi nemaju smisla dok se ne vrate u originalni oblik."
      ]
    },
    {
      "cell_type": "markdown",
      "metadata": {
        "id": "qsacAF9KO7GN"
      },
      "source": [
        "## Napredni grafici"
      ]
    },
    {
      "cell_type": "markdown",
      "metadata": {
        "id": "8CF695PPO-a-"
      },
      "source": [
        "Ako smo rekli da koristimo naprednu biblioteku, želimo to i da pokažemo naprednim funkcionalnostima. Lako možemo dodati sadržaj na već postojeće grafike.\\\n",
        "Za početak, možemo iskombinovati scatter plot sa box plotovima i dobiti sjajnu informaciju. Radi estetike, prikazaćemo samo vrednosti gde je i broj obolelih i umrlih veči od nule, i to u logaritamskoj razmeri."
      ]
    },
    {
      "cell_type": "code",
      "metadata": {
        "id": "5oEAhDdJO9hn"
      },
      "source": [
        "#@title\n",
        "data_positive = data.loc[(data[\"cases\"]>0) & (data[\"deaths\"]>0),:]  # zagrade su jako bitne!!\n",
        "fig = px.scatter(data_positive, x=\"cases\", y=\"deaths\", marginal_y=\"box\",\n",
        "           marginal_x=\"box\", log_x=True, log_y=True)\n",
        "fig.show()"
      ],
      "execution_count": null,
      "outputs": []
    },
    {
      "cell_type": "markdown",
      "metadata": {
        "id": "9RwzVhvATZ0p"
      },
      "source": [
        "Možemo na originalni scatter plot dodati regresionu pravu, tj. liniju trenda."
      ]
    },
    {
      "cell_type": "code",
      "metadata": {
        "id": "IucMkzkwQvw4"
      },
      "source": [
        "#@title\n",
        "data_positive = data.loc[(data[\"cases\"]>0) & (data[\"deaths\"]>0),:]  # zagrade su jako bitne!!\n",
        "fig = px.scatter(data_positive, x=\"cases\", y=\"deaths\", trendline=\"ols\")\n",
        "fig.show()"
      ],
      "execution_count": null,
      "outputs": []
    },
    {
      "cell_type": "markdown",
      "metadata": {
        "id": "BIhj2_OVUTIN"
      },
      "source": [
        "Ovo je dobar trenutak da popričamo o regresiji i ekstremnim vrednostima na nivou koji su potrebni za osnovnu analizu podataka. Prvo, da bismo uopšte smeli da koristimo regresiju podaci se ne smeju levkasto širiti ili skupljati oko linije, kao što je ovde slučaj. Ovaj formalizam se često ignoriše jer iako formalno pogrešna, analiza može biti informativna. Međutim, često ćete videti zloupotrebu pogrešno predviđenih trendova (jedan primer je loše obavljena regresija ljudi koji negiraju klimatske promene - periodični podaci zahtevaju složenu analizu a ne običnu liniju). Ako ćete na taj način zloupotrebljavati ovu tehniku, nemojte reći da ste je ovde naučili :) Ovde nećemo insistirati na levkastom širenju, već ćemo primetiti da iako ova linija izgleda adekvatno za veće vrednosti, ne znamo koliko dobro opisuje male vrednosti koje su i najčešće. Da bismo bolje pogledali, možemo probati logaritamski prikaz (mada prava više neće biti prava)."
      ]
    },
    {
      "cell_type": "code",
      "metadata": {
        "id": "m6D5ZmaBTuHh"
      },
      "source": [
        "#@title\n",
        "data_positive = data.loc[(data[\"cases\"]>0) & (data[\"deaths\"]>0),:]  # zagrade su jako bitne!!\n",
        "fig = px.scatter(data_positive, x=\"cases\", y=\"deaths\", trendline=\"ols\", log_x=True, log_y=True)\n",
        "fig.show()"
      ],
      "execution_count": null,
      "outputs": []
    },
    {
      "cell_type": "markdown",
      "metadata": {
        "id": "glMTM431WVbq"
      },
      "source": [
        "Iako ova linija ne izgleda loše, problem je što uopšte ne opisuje dobro male podatke - vidimo da linija prolazi iznad vrednosti u donjem levom uglu, a ne kroz njih kako bi trebalo. Ovo smo i došli da pogledamo na logaritmovanom plotu. Intuicija bi trebalo da Vam kaže da je deo problema ona jedna ekstremna vrednost koja vuče pravu ka sebi. Pokušajmo da je izbacimo i ponovimo crtanje linije."
      ]
    },
    {
      "cell_type": "code",
      "metadata": {
        "id": "KyFHkNuyT9e4"
      },
      "source": [
        "#@title\n",
        "data_positive = data.loc[(data[\"cases\"]>0) & (data[\"deaths\"]>0) & (data[\"cases\"]<12000),:]  # zagrade su jako bitne!!\n",
        "fig = px.scatter(data_positive, x=\"cases\", y=\"deaths\", trendline=\"ols\", log_x=True, log_y=True)\n",
        "fig.show()"
      ],
      "execution_count": null,
      "outputs": []
    },
    {
      "cell_type": "markdown",
      "metadata": {
        "id": "TwDcUNuGXD5l"
      },
      "source": [
        "Ako uporedite dve linije, videćete drastičnu razliku izazvanu samo malim udelom tačaka. Vrednosti sa jako niskim brojem slučajeva u svakom slučaju ne možemo dobro modelovati (počeci ili krajevi epidemija).\n",
        "Podsećamo da se kvalitet fita nije video na originalnom (nelogaritmovanom) grafiku. Dakle, potreban je oprez i gledanje podataka se zaista ne može zameniti."
      ]
    },
    {
      "cell_type": "markdown",
      "metadata": {
        "id": "iPuKoxOvXjcu"
      },
      "source": [
        "# Stratifikacija podataka"
      ]
    },
    {
      "cell_type": "markdown",
      "metadata": {
        "id": "q6BrPo_qXnJ9"
      },
      "source": [
        "Ova krupna reč zapravo znači analizu podataka po grupama (stratumima). Zbog jednostavnosti naših podataka, jedina grupišuća promenljiva je država. Bar još dve grupišuće promenljive bi bile jako važne za COVID-19 - starosna grupa i zdravstveno stanje. Međutim, za sada ćemo se fokusirati na raspodelu po državama, ali imajte u vidu da koliko god da imate promenljivih u svojoj bazi, uvek postoje takozvane \"skrivene\" promenljive koje utiču na podatke."
      ]
    },
    {
      "cell_type": "markdown",
      "metadata": {
        "id": "38YOreXE4fMe"
      },
      "source": [
        "## Prikaz po grupi (državi)"
      ]
    },
    {
      "cell_type": "markdown",
      "metadata": {
        "id": "qL7_0ReD4jgS"
      },
      "source": [
        "Pošto je grupišuća varijabla nominalna, nema potrebe stavljati je na osu - tj. poredak država nije bitan. Ovaj tip podataka se najbolje prikazuje stubičastim dijagramom (bar plot). Pogledajmo jučerašnji broj obolelih po državi:"
      ]
    },
    {
      "cell_type": "code",
      "metadata": {
        "id": "GIooR7vTWHs-"
      },
      "source": [
        "#@title\n",
        "danas = datetime.datetime.today() \n",
        "juce = danas - datetime.timedelta(days=1)  # ne mozemo samo oduzeti jedan jer python ne zna sta je ta jedinica\n",
        "\n",
        "# Dva nacina da dobijemo jucerasnje podatke\n",
        "# 1) uporedimo i mesec i dan i godinu\n",
        "jucerasnji_podaci = data.loc[(data[\"year\"]==juce.year) & (data[\"month\"]==juce.month) & (data[\"day\"]==juce.day),:]\n",
        "\n",
        "# 2) da formatiramo datum i poredimo samo njega\n",
        "juce_datum = datetime.datetime.strftime(juce, '%m-%d-%Y')\n",
        "jucerasnji_podaci = data.loc[data[\"dateRep\"]==juce_datum,:]"
      ],
      "execution_count": null,
      "outputs": []
    },
    {
      "cell_type": "markdown",
      "metadata": {
        "id": "Lsq4wduUaMWc"
      },
      "source": [
        "Nemojte da Vas zbunjuje ovo ponavljanje reči \"datetime\", to je naprosto način na koji su developeri strukturirali paket. Za one koji su radili objektno orijentisano programiranje, u paketu datetime postoji klasa datetime čije metode koristimo."
      ]
    },
    {
      "cell_type": "code",
      "metadata": {
        "id": "o0IzAJ-baMfA"
      },
      "source": [
        "#@title\n",
        "# Prikažimo podatke\n",
        "fig = px.bar(jucerasnji_podaci, x='geoId', y='cases')\n",
        "fig.show()"
      ],
      "execution_count": null,
      "outputs": []
    },
    {
      "cell_type": "markdown",
      "metadata": {
        "id": "ROcWI0BU-1wj"
      },
      "source": [
        "Primetimo da oznake deluju potpuno pogrešno - najveću vrednost ima JM (Jamaica). Pošto poznajemo kontekst podataka, znamo da to nije istina. Ako se bolje zagledamo, videćemo da su oznake šire od samih stubića. Probajmo da ih smanjimo.\n"
      ]
    },
    {
      "cell_type": "code",
      "metadata": {
        "id": "itl2E4X070Dp"
      },
      "source": [
        "#@title\n",
        "# Prikažimo podatke\n",
        "sz = 5\n",
        "fig = px.bar(jucerasnji_podaci, x='geoId', y='cases')\n",
        "fig.update_xaxes(tickfont=dict(family='Arial', color='blue', size=sz))\n",
        "fig.show()"
      ],
      "execution_count": null,
      "outputs": []
    },
    {
      "cell_type": "markdown",
      "metadata": {
        "id": "oVf3vBeOhynn"
      },
      "source": [
        "Slova su dosta sitna, ali vidimo sve oznake. Probajte da povećate atribut size i videćete da će se opet izgubiti pojedine države. Takođe, kako vreme prolazi i pojavljuju se nove države možda ćemo morati još da smanjimo slova. U principu, retko crtamo ovoliko grupa. Takođe, nacrtali smo samo jedan dan, i stiče se utisak da smo mogli da bolje prikažemo informacije.\\\n",
        "Metodološki preuzeto iz SQL baza podataka - ukoliko želimo da prikažemo operacije na dataframe-u grupisanom po nekoj promenljivoj, koristimo funkciju *groupby*(). Ova operacija deli dataframe na listu dataframe-ova, po jedan za svaku grupu, i osim što ih možemo jedan po jedan procesirati, možemo i koristiti neku od čestih, takozvanih agregujućih funkcija. To su funkcije tipa mean, max, min, sum, count itd. koje proizvode jednu vrednost od više redova i stoga se mogu upisati u novu tabelu koja ima jedan red po grupi. Na primer, ukupan broj slučajeva je svakako interesantan."
      ]
    },
    {
      "cell_type": "code",
      "metadata": {
        "id": "FXOrdBr1-x8i"
      },
      "source": [
        "#@title\n",
        "sums1 = data.groupby(\"geoId\")[\"cases\"].sum()\n",
        "sums2 = data.groupby(\"geoId\")[[\"cases\"]].sum()\n",
        "sums3 = data.groupby(\"geoId\", as_index=False)[[\"cases\"]].sum()\n",
        "display(sums1)\n",
        "display(sums2)\n",
        "display(sums3)"
      ],
      "execution_count": null,
      "outputs": []
    },
    {
      "cell_type": "markdown",
      "metadata": {
        "id": "TQbE9K08mBlV"
      },
      "source": [
        "Date su tri moguće komande za sumiranje po grupama. Prva varijanta (sums1) izdvaja samo jednu kolonu, te dataframe postaje serija (Series) koja se printa kao običan tekst. Serije su gradivne jedinice dataframe-a. U drugoj komandi (sums2) smo duplirali uglaste zagrade, čime je reč \"cases\" postala lista [\"cases\"], i time signaliziramo da želimo listu kolona a ne samo jednu, te analogno rezultat ostaje dataframe od samo jedne kolone. Primetimo da su se u prva dva slučaja indeksi promenili i zovu se kao države po kojima smo grupisali, što je inače sasvim ok. Pošto plotly preferira da sve promenljive za crtanje budu u pravim kolonama, mi menjamo parametar as_index da bude False i time dobijamo pravu kolonu sa državama koju ćemo koristiti za crtanje."
      ]
    },
    {
      "cell_type": "code",
      "metadata": {
        "id": "BTyPlD97izX8"
      },
      "source": [
        "#@title\n",
        "fig = px.bar(sums3, x=\"geoId\", y='cases')\n",
        "fig.update_xaxes(tickfont=dict(family='Arial', color='blue', size=sz))\n",
        "fig.show()"
      ],
      "execution_count": null,
      "outputs": []
    },
    {
      "cell_type": "markdown",
      "metadata": {
        "id": "GePD_CFNoDxb"
      },
      "source": [
        "Da nismo svaki put birali kolonu \"cases\" sve vrednosti bi se sabirale, uključujući i datume. Mi uvek dodatno biramo kolone koje želimo da uđu u narednu operaciju. Ukoliko bismo želeli grubu procenu smrtnosti (bez ulaženja u činjenicu da ne znamo ukupan broj testiranih) kao broj umrlih kroz broj slučajeva, moramo da: \n",
        "\n",
        "1.   izdvojimo dve kolone\n",
        "2.   saberemo ih po datumima\n",
        "3.   podelimo i stavimo u novu kolonu po imenu \"Mort\"\n",
        "4.   prikažemo bar plotom\n",
        "\n"
      ]
    },
    {
      "cell_type": "code",
      "metadata": {
        "id": "rSwB0oY1juaY"
      },
      "source": [
        "#@title\n",
        "sums = data.groupby(\"geoId\", as_index=False)[[\"cases\",\"deaths\"]].sum()\n",
        "sums[\"Mort\"] = sums[\"deaths\"]/sums[\"cases\"]\n",
        "fig = px.bar(sums, x=\"geoId\", y='Mort')\n",
        "fig.update_xaxes(tickfont=dict(family='Arial', color='blue', size=sz))\n",
        "fig.show()"
      ],
      "execution_count": null,
      "outputs": []
    },
    {
      "cell_type": "markdown",
      "metadata": {
        "id": "RJ-QKyDfrYqn"
      },
      "source": [
        "Neophodno je i ovde se ograditi da je smrtnost populaciona mera, i moramo znati o kojoj populaciji je reč. Mi radimo na populaciji koja ima pozitivan test na COVID-19. Ekstenzija ovih brojki na opštu populaciju nije moguća."
      ]
    },
    {
      "cell_type": "markdown",
      "metadata": {
        "id": "8Z6sjAbMry3u"
      },
      "source": [
        "## Vremenske serije"
      ]
    },
    {
      "cell_type": "markdown",
      "metadata": {
        "id": "LAD2qVR7r3oe"
      },
      "source": [
        "Iako je vreme kontinuirana promenljiva, izdvajamo posebnu grupu gde je vreme na x-osi. Značaj ove grupe je što obuhvata mnoge probleme iz različitih disciplina (ekonomske, biološke, telekomunikacione...) a metodologija obrade je u velikoj meri zajednička. Za nas je značajan problem količine podataka - umesto jedne agregovane vrednosti, mi sada imamo nizove vrednosti promenljivih u vremenu. Svaki ovaj niz se naziva vremenska serija, pa umesto jedne vrednosti za svaku grupu sada imamo jednu vremensku seriju po grupi, što je izazovnije za prikaz i obradu.\\\n",
        "Klasičan prikaz vremenskih serija je linijski dijagram. Pogledajmo oboljevanje u vremenu u Švajcarskoj:"
      ]
    },
    {
      "cell_type": "code",
      "metadata": {
        "id": "LbCjeJYWk_zA"
      },
      "source": [
        "#@title\n",
        "fig = px.line(data.loc[data[\"geoId\"]==\"CH\"], x=\"dateRep\", y='cases')\n",
        "fig.show()"
      ],
      "execution_count": null,
      "outputs": []
    },
    {
      "cell_type": "markdown",
      "metadata": {
        "id": "7Uoxruc_5Tp1"
      },
      "source": [
        "Vidimo da je danas (22.3.2020) u toku drugi skok u Švajcarskoj od početka pandemije. Ovo se ne može videti iz jedne agregovane vrednosti, koja god ona bila. Ovo je značaj vremenskih serija. Međutim, nećemo valjda ručno gledati svih 175 država? Nećemo, ali nemamo pametan način da ih sve pregledamo. Pogledaćemo nekoliko reprezentativnih slučajeva u nadi da ćemo dobiti ideju kako da dalje obrađujemo podatke.\\\n",
        "Pogledajmo pet država sa najviše slučajeva ukupno:"
      ]
    },
    {
      "cell_type": "code",
      "metadata": {
        "id": "P1fQ7-qA4WoW"
      },
      "source": [
        "#@title\n",
        "sorted_series = sums.sort_values(by=\"cases\", ascending=False)\n",
        "top_5 = sorted_series[\"geoId\"][:5]\n",
        "data_top_5 = data.loc[data[\"geoId\"].isin(top_5),:]\n",
        "fig = px.line(data_top_5, x=\"dateRep\", y=\"cases\", color=\"geoId\")\n",
        "fig.show()"
      ],
      "execution_count": null,
      "outputs": []
    },
    {
      "cell_type": "markdown",
      "metadata": {
        "id": "295Xh8de67nQ"
      },
      "source": [
        "Do sada smo se sve vreme držali plotly express paketa, koji je jednostavniji ali i manje moćan od ostatka ove biblioteke. Neke stvari za sada možemo uraditi samo uz pomoć naprednih funkcija u *plotly.graph_objects*, kao na primer sledeći primer - kada posmatramo dve promenljive koje su povezane ali je jedna višestruka veća od druge, teško se prikazuju na istom grafiku jer se manja \"zalepi\" za x-osu. Rešenje je korišćenje grafika sa dve y-ose:"
      ]
    },
    {
      "cell_type": "code",
      "metadata": {
        "id": "PrvqMiTo59pU"
      },
      "source": [
        "#@title\n",
        "data_china = data.loc[data[\"geoId\"]==\"CN\",:]\n",
        "\n",
        "# Create figure with secondary y-axis\n",
        "fig = make_subplots(specs=[[{\"secondary_y\": True}]])\n",
        "\n",
        "# Add traces\n",
        "fig.add_trace(\n",
        "    go.Scatter(x=data_china[\"dateRep\"], y=data_china[\"cases\"], name=\"cases\"),\n",
        "    secondary_y=False,\n",
        ")\n",
        "\n",
        "fig.add_trace(\n",
        "    go.Scatter(x=data_china[\"dateRep\"], y=data_china[\"deaths\"], name=\"deaths\"),\n",
        "    secondary_y=True,\n",
        ")\n",
        "\n",
        "# Add figure title\n",
        "fig.update_layout(\n",
        "    title_text=\"Chinese Cases and Deaths\"\n",
        ")\n",
        "\n",
        "# Set x-axis title\n",
        "fig.update_xaxes(title_text=\"Datum\")\n",
        "\n",
        "# Set y-axes titles\n",
        "fig.update_yaxes(title_text=\"<b>primary</b> Cases\", secondary_y=False)\n",
        "fig.update_yaxes(title_text=\"<b>secondary</b> Deaths\", secondary_y=True)\n",
        "\n",
        "fig.show()"
      ],
      "execution_count": null,
      "outputs": []
    },
    {
      "cell_type": "markdown",
      "metadata": {
        "id": "Evkpg_Ib7Do2"
      },
      "source": [
        "Da li bismo mogli da nacrtamo sve države na istom grafiku? Mogli bismo pokušati, ali to može zahtevati puno vremena ili memorije, naročito kada je grafik interaktivan (kao što naši jesu) ili su u pitanju vektorski formati slika (PDF, SVG, EPS). Čak i da je taj problem rešen, u gomili linija ne bismo mogli da razaberemo one od interesa, a opseg vrednosti je takav da se države sa malim brojem slučaja ne bi ni videle od Kine."
      ]
    },
    {
      "cell_type": "markdown",
      "metadata": {
        "id": "59L6VsFAfdyt"
      },
      "source": [
        "# Proširivanje podataka"
      ]
    },
    {
      "cell_type": "markdown",
      "metadata": {
        "id": "eSmQAeJmLBKx"
      },
      "source": [
        "Pošto su podaci koje smo do sada koristili poprilično jednostavni, možemo da pokušamo da nađemo dodatne baze. Recimo da nas zanima obim testiranja, s tim što moramo u startu biti svesni da je ova informacija mnogo teža za pronalaženje u etru jer, osim što je teža za praćenje, ima puno potencijalnih implikacija na kvalitet i zdravstvenu politiku.\\\n",
        "Ukoliko odemo na sajt [OurWorldInData](https://ourworldindata.org/covid-testing) i kliknemo na tab Data ispod interaktivnog scatter plota pod imenom \"Tests conducted vs. Total confirmed cases of COVID-19\", biće nam ponuđeno da skinemo CSV sa podacima. Primetimo da sada ne možemo dobiti direktni link za preuzimanje kao pre (probajte dobijeni link u drugom prozoru), pa ćemo morati da ga preuzmemo na lokalnu mašinu iz pretraživača. Nakon toga, možemo pogledati koje su nam opcije za upload u sledećem [tutorijalu](https://colab.research.google.com/notebooks/io.ipynb#scrollTo=eikfzi8ZT_rW). Ovaj kod je specifičan za ovu platformu i podložan je promenama sa razvojem.\n"
      ]
    },
    {
      "cell_type": "code",
      "metadata": {
        "id": "mqfSmg9-eiCt"
      },
      "source": [
        "#@title\n",
        "from google.colab import files\n",
        "\n",
        "uploaded = files.upload()\n",
        "\n",
        "for fn in uploaded.keys():\n",
        "  print('User uploaded file \"{name}\" with length {length} bytes'.format(\n",
        "      name=fn, length=len(uploaded[fn])))"
      ],
      "execution_count": null,
      "outputs": []
    },
    {
      "cell_type": "markdown",
      "metadata": {
        "id": "M4-A-8LPWy2q"
      },
      "source": [
        "Gornji kod je preuzet iz tutorijala, iako ste uspešno uploadovali adekvatan fajl (i to samo jedan), njegovo ime je i dalje u promenljivoj fn. Na žalost, sadržaj fajla je uvezen kao niz bajtova pa ćemo se poslužiti dodatnim paketom io da bismo dobili pandas dataframe."
      ]
    },
    {
      "cell_type": "code",
      "metadata": {
        "id": "eR1C2yGvMUxo"
      },
      "source": [
        "#@title\n",
        "tests_raw_df = pd.read_csv(io.BytesIO(uploaded[fn]))\n",
        "tests_raw_df"
      ],
      "execution_count": null,
      "outputs": []
    },
    {
      "cell_type": "markdown",
      "metadata": {
        "id": "Ah6-KEh4XmAa"
      },
      "source": [
        "Ova tabela je značajno lošije sređena od prošle, i to nam je svakako jedan od indikatora da bi podaci mogli biti manje pouzdani. Ukupan broj slučajeva nije tako ažurno vođen, broj testiranja je retko prisutan, postoji mešanje država i okruga, promanljiva Year je poprilično nenintuitivna. Uz to, skraćenice država su troslovne a u drugoj tabeli dvoslovne, te ni u tom smislu nemamo sreće. Ovo je realan problem dve tabele iz različitih izvora.\\\n",
        "Predlažem da iz tabele sa testiranjima izvučemo jedan red po državi koji ima i broj testova i broj slučajeva. Ako neka država nema testove preskočićemo je. Iako deluje da svaka država ima samo jednom upisan broj testova, ukoliko ih ima više unapred odlučujemo da ćemo uzeti najveći tj. poslednji u vremenu (jer sve vrednosti su kumulativne) korišćenjem funkcije max. Na kraju ćemo izračunati novu promenljivu - proporciju pozitivnih testova."
      ]
    },
    {
      "cell_type": "code",
      "metadata": {
        "id": "r5ZZgGDhMzU9"
      },
      "source": [
        "#@title\n",
        "# Prvo cemo naci indekse svih redova gde su maksimumi svojih drzava.\n",
        "# Sta bi se desilo da ima vise istih vrednosti? Da li bi se odabrala prva?\n",
        "# Nasumicna? Svaka od njih?\n",
        "idx = tests_raw_df.groupby(['Entity'])['Total COVID-19 tests'].transform(max) == tests_raw_df['Total COVID-19 tests']\n",
        "tests_max_df = tests_raw_df[idx]\n",
        "# Racunamo procenat pozitivnih testova\n",
        "tests_max_df[\"Pos_ratio\"] = tests_max_df['Total confirmed cases of COVID-19 (cases)']/tests_max_df['Total COVID-19 tests']\n",
        "tests_max_df"
      ],
      "execution_count": null,
      "outputs": []
    },
    {
      "cell_type": "markdown",
      "metadata": {
        "id": "0a1Y-yC3cKL4"
      },
      "source": [
        "Primetimo da se broj redova značajno smanjio, i da neke vrednosti fale. Pošto su nedostajuće vrednosti mahom broj slučajeva, što mi posedujemo u drugoj tabeli, mogli bismo da te vrednosti popunimo, ali to prevazilazi obim ovog kursa.\\\n",
        "Najbolje je spojiti dobijenu tabelu sa tabelom suma koju smo ranije dobili, pošto obe tabele predstavljaju agregovane statistike za niz dana (da je tabela sa testiranjem bolje popunjena možda bismo mogli da povežemo i pune tabele, ali avaj). Da bismo to uradili, potrebna nam je kolona kooja postoji u ove tabele. Na žalost, već smo primetili da skraćenica koju smo do sada koristili nije u istom formatu, pa ćemo ponovo generisati sume iz prve tabele, ovaj put agregovane po punim imenima.\\\n",
        "Spajanje se vrši funkcijom merge, koja je analogna [JOIN](https://www.edureka.co/blog/sql-joins-types) operaciji kod baza podataka. Pošto želimo samo redove koji postoje u obe tabele, koristićemo unutrašnji (inner) join."
      ]
    },
    {
      "cell_type": "code",
      "metadata": {
        "id": "QMoxhTtESqEN"
      },
      "source": [
        "#@title\n",
        "sums_full_name = data.groupby(\"Countries and territories\", as_index=False)[[\"cases\",\"deaths\"]].sum()\n",
        "sums_full_name[\"Mort\"] = sums_full_name[\"deaths\"]/sums_full_name[\"cases\"]\n",
        "merged_inner = pd.merge(left=sums_full_name, right=tests_max_df, how='inner', left_on='Countries and territories', right_on='Entity')\n",
        "merged_inner"
      ],
      "execution_count": null,
      "outputs": []
    },
    {
      "cell_type": "markdown",
      "metadata": {
        "id": "gKGKNsINfiYa"
      },
      "source": [
        "Odmah možemo i pogledati naše izvedene promenljive, udeo smrtnosti i udeo pozitivnih na testu. Funkcije za crtanje nemaju problem sa nedostajućim vrednostima."
      ]
    },
    {
      "cell_type": "code",
      "metadata": {
        "id": "9SbX1-nVKGt4"
      },
      "source": [
        "#@title\n",
        "fig = px.scatter(merged_inner, x=\"Mort\", y=\"Pos_ratio\", log_x=True, log_y=True)\n",
        "fig.show()"
      ],
      "execution_count": null,
      "outputs": []
    },
    {
      "cell_type": "markdown",
      "metadata": {
        "id": "SEbT2QTfkpkX"
      },
      "source": [
        "Napomena: *u trenutku pisanja, tačka sa najmanjim udelom pozitivnih na testu je bila Australija. Nakon provere, ispostavilo se da je broj testova nekih 127000 dok su u tom periodu novine objavljivale cifru od 30000 testova. Nezavisno od toga šta je istina, pouka je da uvek gledamo ekstremne vrednosti i proveravamo ih za greške.*"
      ]
    },
    {
      "cell_type": "markdown",
      "metadata": {
        "id": "hJQ4NGaVgmOi"
      },
      "source": [
        "Recimo da hoćemo da pogledamo korelaciju između ove dve izvedene promenljive. Koristićemo corrcoef funkciju za Pirsonovu korelaciju iz paketa numpy, mada dolazi u obzir i Spirmanova korelacija koja je u scipy.stats paketu. Pre toga moramo ukloniti prazne vrednosti iz tabele."
      ]
    },
    {
      "cell_type": "code",
      "metadata": {
        "id": "dDYGufdfK7q6"
      },
      "source": [
        "#@title\n",
        "clean = merged_inner.loc[~(merged_inner['Pos_ratio'].isnull() | merged_inner['Mort'].isnull())]\n",
        "print(\"Pirsonova korelacija:\")\n",
        "print(np.corrcoef(clean['Mort'], clean['Pos_ratio']))\n",
        "print(\"Spirmanova korelacija:\")\n",
        "scipy.stats.spearmanr(clean['Mort'], clean['Pos_ratio'])"
      ],
      "execution_count": null,
      "outputs": []
    },
    {
      "cell_type": "markdown",
      "metadata": {
        "id": "PR4ACmg1hxv3"
      },
      "source": [
        "Nemojte da Vas zbuni korelaciona matrica koja se dobija za Pirsonov koeficijent korelacije - na dijagonali će uvek biti jedinice, dok vrednost koja nas zanima je na sporednoj dijagonali.\\\n",
        "U zavisnosti od znaka, intenziteta i statističke značajnosti, tumačimo koliko su ove dve pojave korelisane. Pozitivan koeficijent znači da je korelacija pozitivna (kada raste jedna raste i druga), veličina apsolutne vrednosti ide do 1 i govori o jačini povezanosti, dok se p-vrednosti manje od 0.05 arbitrarno smatraju statistički značajnim.\\\n",
        "U trenutku pisanja pozitivna srednje jaka korelacija od oko 0.5 indikuje da ove promenljive zajedno rastu, što možemo objasniti na više načina. Očigledan bi bio da veći obim testiranja nalazi manje pozitivnih slučajeva ali i veći udeo lakših, te je i smrtnost u takvoj grupi manja. Sa druge strane, kada testiramo samo bolesnike sa jakim simptomima više njih će biti pozitivno ali je i smrtnost očekivano veća."
      ]
    },
    {
      "cell_type": "markdown",
      "metadata": {
        "id": "xo1udjEckBd3"
      },
      "source": [
        "# Linearna regresija"
      ]
    },
    {
      "cell_type": "markdown",
      "metadata": {
        "id": "69pZFOy6stu5"
      },
      "source": [
        "Python je dosta loš za linearnu regresiju sa osnovim paketima u poređenju sa drugim data science jezicima - output je siromašniji, a sama procedura je komplikovanija jer je prilagođena prediktivnom modelovanju mašinskim učenjem. Ipak, prikazaćemo osnovne korake ovde.\\\n",
        "Linearna regresija daje sličnu informaciju kao regresija, ali nam daje i matematički linearni model koji možemo koristiti za predikciju vrednosti - za određenu vrednost promenljive X mi ćemo znati očekivanu vrednost promenljive Y. Pokušaćemo da nađemo ovaj model za izvedene promenljive korišćene u prethodnom poglavlju - udeo umrlih i udeo pozitivnih."
      ]
    },
    {
      "cell_type": "code",
      "metadata": {
        "id": "xwhJc0PQSR95"
      },
      "source": [
        "#@title\n",
        "# Nalaženje modela\n",
        "regressor = LinearRegression()  \n",
        "regressor.fit(clean[['Mort']], clean['Pos_ratio'])  # primetite duple zagrade oko X-promenljive\n",
        "\n",
        "# Računanje R2 (mora posebno)\n",
        "r2 = regressor.score(clean[['Mort']], clean['Pos_ratio'])\n",
        "\n",
        "print(\"Koeficijent: {}\".format(regressor.coef_))\n",
        "print(\"Intercept: {}\".format(regressor.intercept_))\n",
        "print(\"Koeficijent: {}\".format(regressor.coef_))\n",
        "print(\"R2: {}\".format(r2))"
      ],
      "execution_count": null,
      "outputs": []
    },
    {
      "cell_type": "markdown",
      "metadata": {
        "id": "2ow6Y8Xtxyfp"
      },
      "source": [
        "R2 ili koeficijent determinacije predstavlja udeo objašnjene varijacije u modelu, a zove se tako jer je jednak kvadratu Pirsonovog r koje smo računali u prošlom poglavlju."
      ]
    },
    {
      "cell_type": "markdown",
      "metadata": {
        "id": "uJKQHkVMoe7m"
      },
      "source": [
        "# Italijanski slučaj"
      ]
    },
    {
      "cell_type": "markdown",
      "metadata": {
        "id": "CD-iJfldodLq"
      },
      "source": [
        "Italijanski slučaj je značajan ne samo kao velika tragedija, već i kao važan predmet izučavanja za epidemiologiju. Pogledaćemo neke osnovne podatke koje Protezione Civile objavljuje na svom Github-u."
      ]
    },
    {
      "cell_type": "code",
      "metadata": {
        "id": "0SR8qO1bpE22"
      },
      "source": [
        "#@title\n",
        "dataITALY = pd.read_csv(\"https://raw.githubusercontent.com/pcm-dpc/COVID-19/master/dati-andamento-nazionale/dpc-covid19-ita-andamento-nazionale.csv\")\n",
        "dataREGIONI = pd.read_csv(\"https://raw.githubusercontent.com/pcm-dpc/COVID-19/master/dati-regioni/dpc-covid19-ita-regioni.csv\")\n",
        "dataPROVINCE = pd.read_csv(\"https://raw.githubusercontent.com/pcm-dpc/COVID-19/master/dati-province/dpc-covid19-ita-province.csv\")\n",
        "dataITALY"
      ],
      "execution_count": null,
      "outputs": []
    },
    {
      "cell_type": "code",
      "metadata": {
        "id": "IImeI64Spr0r"
      },
      "source": [
        "#@title\n",
        "# Create figure with secondary y-axis\n",
        "fig = make_subplots(specs=[[{\"secondary_y\": True}]])\n",
        "\n",
        "# Add traces\n",
        "fig.add_trace(\n",
        "    go.Scatter(x=dataITALY[\"data\"], y=dataITALY[\"totale_attualmente_positivi\"], name=\"Cases\"),\n",
        "    secondary_y=False,\n",
        ")\n",
        "\n",
        "fig.add_trace(\n",
        "    go.Scatter(x=dataITALY[\"data\"], y=dataITALY[\"terapia_intensiva\"], name=\"Intensive Care\"),\n",
        "    secondary_y=True,\n",
        ")\n",
        "\n",
        "# Add figure title\n",
        "fig.update_layout(\n",
        "    title_text=\"Italian Cases, Regular and Difficult\"\n",
        ")\n",
        "\n",
        "# Set x-axis title\n",
        "fig.update_xaxes(title_text=\"Date\")\n",
        "\n",
        "# Set y-axes titles\n",
        "fig.update_yaxes(title_text=\"<b>primary</b> Total\", secondary_y=False)\n",
        "fig.update_yaxes(title_text=\"<b>secondary</b> Intensive\", secondary_y=True)\n",
        "\n",
        "fig.show()"
      ],
      "execution_count": null,
      "outputs": []
    }
  ]
}